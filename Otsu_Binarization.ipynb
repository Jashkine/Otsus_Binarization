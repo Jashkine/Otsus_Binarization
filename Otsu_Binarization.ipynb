{
 "cells": [
  {
   "cell_type": "markdown",
   "id": "fee285ef",
   "metadata": {},
   "source": [
    "# Otsu's Binarization\n"
   ]
  },
  {
   "cell_type": "code",
   "execution_count": 65,
   "id": "88fd8785",
   "metadata": {},
   "outputs": [],
   "source": [
    "#Importing library\n",
    "import skimage\n",
    "import matplotlib.pyplot as plt\n",
    "import numpy as np\n",
    "from skimage import io"
   ]
  },
  {
   "cell_type": "code",
   "execution_count": 73,
   "id": "62466805",
   "metadata": {},
   "outputs": [],
   "source": [
    "#Within class variance implementation\n",
    "def within_class(img):\n",
    "    x = np.array(range(0, 256))\n",
    "    #print(img.shape)\n",
    "    h, w = img.shape\n",
    "    histo = histogram_computation(img)\n",
    "    histo_n = np.divide(histo, h*w)\n",
    "    #v_w = within class variance\n",
    "    # w_0 = Class 0 probability\n",
    "    # w_1 = Class 1 probability\n",
    "    # u_0p, u_0 = Class 0 mean\n",
    "    # u_1p, u_1 = Class 1 mean\n",
    "    # v_0p, v_0 = Class 0 variance\n",
    "    # v_1p, v_1 = Class 1 variance\n",
    "    v_w = []\n",
    "    s_w = 0\n",
    "    Threshold = 0\n",
    "    for k in range(256):\n",
    "        w_0 = 0\n",
    "        w_1 = 0\n",
    "        u_0p = 0\n",
    "        u_1p = 0\n",
    "        u_0 = 0\n",
    "        u_1 = 0\n",
    "        v_0p = 0\n",
    "        v_1p = 0\n",
    "        v_0 = 0\n",
    "        v_1 = 0\n",
    "\n",
    "        for i in range(Threshold+1):\n",
    "            w_0 = w_0 + histo_n[i]\n",
    "            u_0p = u_0p + i * histo_n[i]\n",
    "\n",
    "        for j in range(Threshold+1, 256) :\n",
    "            w_1 = w_1 + histo_n[j]\n",
    "            u_1p = u_1p + j * histo_n[j]\n",
    "\n",
    "        if w_0==0:\n",
    "            u_0 = u_0p\n",
    "        else:\n",
    "            u_0 = u_0p/w_0\n",
    "        if w_1 == 0:\n",
    "            u_1 = u_1p\n",
    "        else:\n",
    "            u_1 = u_1p/w_1\n",
    "\n",
    "        for l in range(Threshold + 1):\n",
    "            v_0p = v_0p + ((l-u_0)**2) * histo_n[l]\n",
    "        for m in range(Threshold + 1, 256):\n",
    "            v_1p = v_1p + ((m-u_1)**2) * histo_n[m]\n",
    "\n",
    "        if w_0==0:\n",
    "            v_0 = v_0p\n",
    "        else:\n",
    "            v_0 = v_0p/w_0\n",
    "        if w_1 == 0:\n",
    "            v_1 = v_1p\n",
    "        else:\n",
    "            v_1 = v_1p/w_1\n",
    "\n",
    "        s_w = w_0 * v_0 + v_1 * w_1\n",
    "        v_w.append(s_w)\n",
    "        Threshold=Threshold+1\n",
    "    return(v_w)"
   ]
  },
  {
   "cell_type": "code",
   "execution_count": 80,
   "id": "0b4121ef",
   "metadata": {},
   "outputs": [],
   "source": [
    "#Between class variance implementation\n",
    "def between_class(img):\n",
    "    h, w = img.shape\n",
    "    histo = histogram_computation(img)\n",
    "    histo_n = np.divide(histo, h * w)\n",
    "    \n",
    "    #v_b = Between class variance\n",
    "    v_b = []\n",
    "    s_b = 0\n",
    "    Threshold = 0\n",
    "    # w_0 = Class 0 probability\n",
    "    # w_1 = Class 1 probability\n",
    "    # u_0p, u_0 = Class 0 mean\n",
    "    # u_1p, u_1 = Class 1 mean\n",
    "    # v_0p, v_0 = Class 0 variance\n",
    "    # v_1p, v_1 = Class 1 variance\n",
    "\n",
    "    for k in range(256):\n",
    "        w_0 = 0\n",
    "        w_1 = 0\n",
    "        u_0p = 0\n",
    "        u_1p = 0\n",
    "        u_0 = 0\n",
    "        u_1 = 0\n",
    "        v_0p = 0\n",
    "        v_1p = 0\n",
    "        v_0 = 0\n",
    "        v_1 = 0\n",
    "\n",
    "        for i in range(Threshold + 1):\n",
    "            w_0 = w_0 + histo_n[i]\n",
    "            u_0p = u_0p + i * histo_n[i]\n",
    "\n",
    "        for j in range(Threshold + 1, 256):\n",
    "            w_1 = w_1 + histo_n[j]\n",
    "            u_1p = u_1p + j * histo_n[j]\n",
    "\n",
    "        if w_0 == 0:\n",
    "            u_0 = u_0p\n",
    "        else:\n",
    "            u_0 = u_0p / w_0\n",
    "        if w_1 == 0:\n",
    "            u_1 = u_1p\n",
    "        else:\n",
    "            u_1 = u_1p / w_1\n",
    "\n",
    "        for l in range(Threshold + 1):\n",
    "            v_0p = v_0p + ((l - u_0) ** 2) * histo_n[l]\n",
    "        for m in range(Threshold + 1, 256):\n",
    "            v_1p = v_1p + ((m - u_1) ** 2) * histo_n[m]\n",
    "\n",
    "        if w_0 == 0:\n",
    "            v_0 = v_0p\n",
    "        else:\n",
    "            v_0 = v_0p / w_0\n",
    "        if w_1 == 0:\n",
    "            v_1 = v_1p\n",
    "        else:\n",
    "            v_1 = v_1p / w_1\n",
    "\n",
    "        s_b = w_0 * w_1 * (u_0 - u_1) ** 2\n",
    "        v_b.append(s_b)\n",
    "        Threshold = Threshold + 1\n",
    "    return v_b"
   ]
  },
  {
   "cell_type": "code",
   "execution_count": 81,
   "id": "33dfa969",
   "metadata": {},
   "outputs": [],
   "source": [
    "def otsu_binarization(img,Threshold):\n",
    "    img2 = img > Threshold\n",
    "    return img2"
   ]
  },
  {
   "cell_type": "code",
   "execution_count": 82,
   "id": "0cb16a71",
   "metadata": {},
   "outputs": [],
   "source": [
    "def binarization_2():\n",
    "    img = skimage.io.imread('coins.png')\n",
    "    var_within_c = within_class(img)\n",
    "    var_between_c = between_class(img)\n",
    "    var_img = image_variance(img)\n",
    "\n",
    "    plt.figure(3)\n",
    "    plt.subplots_adjust(left=0.1,\n",
    "                    bottom=0.1,\n",
    "                    right=0.9,\n",
    "                    top=0.9,\n",
    "                    wspace=0.4,\n",
    "                    hspace=0.6)\n",
    "    plt.subplot(221)\n",
    "    plt.xlabel('Intensity')\n",
    "    plt.ylabel('Variance')\n",
    "    plt.title(\"Within class variance\")\n",
    "    plt.bar(x, var_within_c, width=1)\n",
    "    plt.subplot(222)\n",
    "    plt.xlabel('Intensity')\n",
    "    plt.title(\"Between class variance\")\n",
    "    plt.bar(x, var_between_c, width=1)\n",
    "    plt.subplot(223)\n",
    "    plt.xlabel('Intensity')\n",
    "    plt.title(\"Image variance\")\n",
    "    plt.bar(x, var_img, width=1)\n",
    "    plt.show()\n",
    "\n",
    "    Threshold_w = var_within_c.index(min(var_within_c))\n",
    "    Threshold_b = var_between_c.index(max(var_between_c))\n",
    "    print(\"Minimum of within-class variance is located at\",Threshold_w)\n",
    "    print(\"Maximum of between-class variance is located at\", Threshold_b)\n",
    "\n",
    "    #Binarization\n",
    "    binarized_image = otsu_binarization(img,Threshold_w)\n",
    "\n",
    "    plt.figure(4)\n",
    "    plt.subplot(121)\n",
    "    plt.title(\"Gray scale image\")\n",
    "    plt.imshow(img, cmap=\"gray\", vmin=0, vmax=255)\n",
    "    plt.subplot(122)\n",
    "    plt.title(\"Binarized Image\")\n",
    "    plt.imshow(binarized_image, cmap=\"gray\")\n",
    "    plt.show()\n"
   ]
  },
  {
   "cell_type": "code",
   "execution_count": 83,
   "id": "837fd9b3",
   "metadata": {},
   "outputs": [],
   "source": [
    "def histogram_computation(img2):\n",
    "    arr2 = [0]*256\n",
    "    img1 = np.array(img2,int)\n",
    "    for _ in img1:\n",
    "        for i in _:\n",
    "            arr2[i] = arr2[i]+1\n",
    "    return arr2"
   ]
  },
  {
   "cell_type": "code",
   "execution_count": 84,
   "id": "713a16c3",
   "metadata": {},
   "outputs": [],
   "source": [
    "#Image variance computation\n",
    "def image_variance(img):\n",
    "    h, w = img.shape\n",
    "    histo = histogram_computation(img)\n",
    "    histo_n = np.divide(histo, h * w)\n",
    "    u_t = 0\n",
    "    v_t = 0\n",
    "    for k in range(256):\n",
    "        u_t = u_t + k * histo_n[k]\n",
    "        v_t = v_t + (k - u_t) ** 2 * histo_n[k]\n",
    "    return v_t"
   ]
  },
  {
   "cell_type": "code",
   "execution_count": 85,
   "id": "e7220f97",
   "metadata": {},
   "outputs": [
    {
     "data": {
      "image/png": "[encoded data removed]",
      "text/plain": [
       "<Figure size 432x288 with 3 Axes>"
      ]
     },
     "metadata": {
      "needs_background": "light"
     },
     "output_type": "display_data"
    },
    {
     "name": "stdout",
     "output_type": "stream",
     "text": [
      "Minimum of within-class variance is located at 125\n",
      "Maximum of between-class variance is located at 125\n"
     ]
    },
    {
     "data": {
      "image/png": "[encoded data removed]",
      "text/plain": [
       "<Figure size 432x288 with 2 Axes>"
      ]
     },
     "metadata": {
      "needs_background": "light"
     },
     "output_type": "display_data"
    }
   ],
   "source": [
    "x = np.array(range(0, 256))\n",
    "binarization_2()"
   ]
  },
  {
   "cell_type": "code",
   "execution_count": null,
   "id": "f28c0008",
   "metadata": {},
   "outputs": [],
   "source": []
  }
 ],
 "metadata": {
  "kernelspec": {
   "display_name": "Python 3.9.12 64-bit",
   "language": "python",
   "name": "python3"
  },
  "language_info": {
   "codemirror_mode": {
    "name": "ipython",
    "version": 3
   },
   "file_extension": ".py",
   "mimetype": "text/x-python",
   "name": "python",
   "nbconvert_exporter": "python",
   "pygments_lexer": "ipython3",
   "version": "3.9.12"
  },
  "vscode": {
   "interpreter": {
    "hash": "bb63f3879b8ba81d3ca608dd6adf944d6106ef3ce940c069f0398d729a1bcb4f"
   }
  }
 },
 "nbformat": 4,
 "nbformat_minor": 5
}
